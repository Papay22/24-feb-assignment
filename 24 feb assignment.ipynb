{
 "cells": [
  {
   "cell_type": "code",
   "execution_count": null,
   "id": "a80adbba-a5c4-4242-a8b7-e5695fbb0b82",
   "metadata": {},
   "outputs": [],
   "source": [
    "Pandas.read_csv() - This function is used to read a CSV (comma separated values) file and store it in a DataFrame object.\n",
    "Pandas.DataFrame.head() - This function is used to return the first n rows of a DataFrame, where n is an integer value that can be specified as an argument.\n",
    "Pandas.DataFrame.tail() - This function is used to return the last n rows of a DataFrame, where n is an integer value that can be specified as an argument.\n",
    "Pandas.DataFrame.describe() - This function is used to generate descriptive statistics that summarize the central tendency, dispersion and shape of a dataset’s distribution, excluding NaN values.\n",
    "Pandas.DataFrame.groupby() - This function is used to group data by one or more variables and apply a function to each group independently.\n"
   ]
  },
  {
   "cell_type": "code",
   "execution_count": null,
   "id": "31393e3d-37bd-486c-887c-6bba222cb2f3",
   "metadata": {},
   "outputs": [],
   "source": [
    "def reindex_df(df):\n",
    "\n",
    "df.index = range(1, len(df) + 1, 2)\n",
    "\n",
    "return df"
   ]
  },
  {
   "cell_type": "code",
   "execution_count": null,
   "id": "a9ce7961-4774-4db6-8ef3-007826bff86b",
   "metadata": {},
   "outputs": [],
   "source": [
    "def sum_values(df):\n",
    "\n",
    "sum = 0\n",
    "\n",
    "for value in df'Values':\n",
    "\n",
    "sum += value\n",
    "\n",
    "print(sum)\n",
    "\n",
    "\n",
    "sum_values(df"
   ]
  },
  {
   "cell_type": "code",
   "execution_count": null,
   "id": "d89bae74-43ec-45b3-98a6-fe390147d106",
   "metadata": {},
   "outputs": [],
   "source": [
    "def word_count(df):\n",
    "\n",
    "df['Word_Count'] = df'Text'.apply(lambda x: len(x.split()))\n",
    "\n",
    "return df\n",
    "\n",
    "\n",
    "df = word_count(df)"
   ]
  },
  {
   "cell_type": "code",
   "execution_count": null,
   "id": "593d7e42-9a42-4372-a134-598517836201",
   "metadata": {},
   "outputs": [],
   "source": [
    "DataFrame.size() returns the total number of elements in the DataFrame, while DataFrame.shape() returns the number of rows and columns in the DataFrame."
   ]
  },
  {
   "cell_type": "code",
   "execution_count": null,
   "id": "8b4e41ec-452b-4c33-a801-1cec9403f5ce",
   "metadata": {},
   "outputs": [],
   "source": [
    "The function used to read an excel file in pandas is read_excel()."
   ]
  },
  {
   "cell_type": "code",
   "execution_count": null,
   "id": "77fa85f6-23f8-4ef4-a198-8ca6cb1dd964",
   "metadata": {},
   "outputs": [],
   "source": [
    "def extract_username(df):\n",
    "\n",
    "df'Username' = df'Email'.apply(lambda x: x.split('@')0)\n",
    "\n",
    "return df\n",
    "\n",
    "\n",
    "df = extract_username(df)"
   ]
  },
  {
   "cell_type": "code",
   "execution_count": null,
   "id": "3aea876f-6cf8-437b-aaff-3bda89427675",
   "metadata": {},
   "outputs": [],
   "source": [
    "The function should return a new DataFrame with the following values:\n",
    "\n",
    "A B C\n",
    "\n",
    "2 6 9 4\n",
    "\n",
    "\n",
    "def select_rows(df):\n",
    "\n",
    "return df[(df'A' > 5) & (df'B' < 10)]"
   ]
  }
 ],
 "metadata": {
  "kernelspec": {
   "display_name": "Python 3 (ipykernel)",
   "language": "python",
   "name": "python3"
  },
  "language_info": {
   "codemirror_mode": {
    "name": "ipython",
    "version": 3
   },
   "file_extension": ".py",
   "mimetype": "text/x-python",
   "name": "python",
   "nbconvert_exporter": "python",
   "pygments_lexer": "ipython3",
   "version": "3.10.8"
  }
 },
 "nbformat": 4,
 "nbformat_minor": 5
}
